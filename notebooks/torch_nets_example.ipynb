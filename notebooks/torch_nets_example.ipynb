{
 "cells": [
  {
   "cell_type": "code",
   "execution_count": 3,
   "metadata": {
    "id": "7sWsxCP3dOXb"
   },
   "outputs": [],
   "source": [
    "# pip install torch-nets==0.0.3rc2"
   ]
  },
  {
   "cell_type": "code",
   "execution_count": 37,
   "metadata": {
    "colab": {
     "base_uri": "https://localhost:8080/"
    },
    "id": "3Wgou0YCbUvN",
    "outputId": "9b26e000-5ac9-40f7-87d7-cfce1f2d34e1"
   },
   "outputs": [
    {
     "name": "stdout",
     "output_type": "stream",
     "text": [
      "0.0.3rc2\n"
     ]
    }
   ],
   "source": [
    "import torch_nets\n",
    "import torch\n",
    "\n",
    "print(tn.__version__)"
   ]
  },
  {
   "cell_type": "code",
   "execution_count": 38,
   "metadata": {
    "colab": {
     "base_uri": "https://localhost:8080/"
    },
    "id": "xRBUGluObdJF",
    "outputId": "18423236-a80a-4752-9e66-8dd9b3eb1828"
   },
   "outputs": [
    {
     "data": {
      "text/plain": [
       "TorchNet(\n",
       "  (hidden_1): Sequential(\n",
       "    (linear): Linear(in_features=50, out_features=400, bias=True)\n",
       "    (dropout): Dropout(p=0.2, inplace=False)\n",
       "    (activation): LeakyReLU(negative_slope=0.01)\n",
       "  )\n",
       "  (hidden_2): Sequential(\n",
       "    (linear): Linear(in_features=400, out_features=400, bias=True)\n",
       "    (dropout): Dropout(p=0.2, inplace=False)\n",
       "    (activation): LeakyReLU(negative_slope=0.01)\n",
       "  )\n",
       "  (output): Sequential(\n",
       "    (linear): Linear(in_features=400, out_features=50, bias=True)\n",
       "  )\n",
       ")"
      ]
     },
     "execution_count": 38,
     "metadata": {},
     "output_type": "execute_result"
    }
   ],
   "source": [
    "net = torch_nets.TorchNet(in_features=50, out_features=50, hidden=[400, 400])\n",
    "net"
   ]
  },
  {
   "cell_type": "code",
   "execution_count": 40,
   "metadata": {
    "id": "uy-24NEIgrLS"
   },
   "outputs": [],
   "source": [
    "X = torch.randn([200, 50])"
   ]
  },
  {
   "cell_type": "code",
   "execution_count": 41,
   "metadata": {
    "colab": {
     "base_uri": "https://localhost:8080/"
    },
    "id": "gdsVOOAagfD5",
    "outputId": "4f3b6a28-67bf-484c-ad07-bcbf6cdf28cf"
   },
   "outputs": [
    {
     "name": "stdout",
     "output_type": "stream",
     "text": [
      "torch.Size([200, 50])\n"
     ]
    }
   ],
   "source": [
    "X_hat = net(X)\n",
    "print(X_hat.shape)"
   ]
  },
  {
   "cell_type": "markdown",
   "metadata": {
    "id": "a-yAhN6Eg49D"
   },
   "source": [
    "### `AugmentedTorchNet`\n",
    "\n",
    "Instantiate the network, use the same data from before"
   ]
  },
  {
   "cell_type": "code",
   "execution_count": 17,
   "metadata": {
    "colab": {
     "base_uri": "https://localhost:8080/"
    },
    "id": "1lS7NpG4cyrn",
    "outputId": "54c25f7e-2137-4209-e983-3a17c668af0e"
   },
   "outputs": [
    {
     "data": {
      "text/plain": [
       "AugmentedTorchNet(in_features=50, out_features=50, net=TorchNet(\n",
       "  (hidden_1): Sequential(\n",
       "    (linear): Linear(in_features=55, out_features=400, bias=True)\n",
       "    (dropout): Dropout(p=0.2, inplace=False)\n",
       "    (activation): LeakyReLU(negative_slope=0.01)\n",
       "  )\n",
       "  (hidden_2): Sequential(\n",
       "    (linear): Linear(in_features=400, out_features=400, bias=True)\n",
       "    (dropout): Dropout(p=0.2, inplace=False)\n",
       "    (activation): LeakyReLU(negative_slope=0.01)\n",
       "  )\n",
       "  (output): Sequential(\n",
       "    (linear): Linear(in_features=400, out_features=55, bias=True)\n",
       "  )\n",
       "  (augmented_output): Linear(in_features=55, out_features=50, bias=True)\n",
       "))"
      ]
     },
     "execution_count": 17,
     "metadata": {},
     "output_type": "execute_result"
    }
   ],
   "source": [
    "aug_net = torch_nets.AugmentedTorchNet(in_features=50, out_features=50, hidden=[400, 400], n_augment=5)\n",
    "aug_net"
   ]
  },
  {
   "cell_type": "code",
   "execution_count": 18,
   "metadata": {
    "id": "A42yuK1tf2V9"
   },
   "outputs": [],
   "source": [
    "X = torch.randn([200, 50])"
   ]
  },
  {
   "cell_type": "code",
   "execution_count": 19,
   "metadata": {
    "colab": {
     "base_uri": "https://localhost:8080/"
    },
    "id": "8NF6jVk_fj12",
    "outputId": "a6d6feab-78bd-4faf-aea0-de6c9bdc8f10"
   },
   "outputs": [
    {
     "data": {
      "text/plain": [
       "torch.Size([200, 50])"
      ]
     },
     "execution_count": 19,
     "metadata": {},
     "output_type": "execute_result"
    }
   ],
   "source": [
    "aug_net(X).shape"
   ]
  },
  {
   "cell_type": "markdown",
   "metadata": {
    "id": "RHjHL7F2g_HW"
   },
   "source": [
    "### `Encoder` and `Decoder`\n",
    "\n",
    "Generate a test data matrix (200 samples by 2500 dimensions)"
   ]
  },
  {
   "cell_type": "code",
   "execution_count": 42,
   "metadata": {
    "id": "x2FWF4LEgAic"
   },
   "outputs": [],
   "source": [
    "X = torch.randn([200, 2500])"
   ]
  },
  {
   "cell_type": "markdown",
   "metadata": {
    "id": "xQVwMTo3hQ6k"
   },
   "source": [
    "Instantiate the `Encoder`"
   ]
  },
  {
   "cell_type": "code",
   "execution_count": 43,
   "metadata": {
    "id": "ApS7RRsLfz2c"
   },
   "outputs": [],
   "source": [
    "enc = torch_nets.Encoder(data_dim=X.shape[1], latent_dim=20)"
   ]
  },
  {
   "cell_type": "code",
   "execution_count": 44,
   "metadata": {
    "colab": {
     "base_uri": "https://localhost:8080/"
    },
    "id": "k4dM5_pUgDs_",
    "outputId": "a964d59b-9509-4f21-b7ae-702886ae3fd1"
   },
   "outputs": [
    {
     "name": "stdout",
     "output_type": "stream",
     "text": [
      "torch.Size([200, 20])\n"
     ]
    }
   ],
   "source": [
    "Z = enc(X)\n",
    "print(Z.shape)"
   ]
  },
  {
   "cell_type": "markdown",
   "metadata": {
    "id": "nFQF6jNVhXaR"
   },
   "source": [
    "Instantiate the `Decoder`"
   ]
  },
  {
   "cell_type": "code",
   "execution_count": 45,
   "metadata": {
    "id": "efbXwZ1lgGWm"
   },
   "outputs": [],
   "source": [
    "dec = torch_nets.Decoder(data_dim=X.shape[1], latent_dim=Z.shape[1])"
   ]
  },
  {
   "cell_type": "code",
   "execution_count": 46,
   "metadata": {
    "colab": {
     "base_uri": "https://localhost:8080/"
    },
    "id": "blikW_acgQlG",
    "outputId": "42116ce7-2916-433b-ecbe-816611a3feb2"
   },
   "outputs": [
    {
     "name": "stdout",
     "output_type": "stream",
     "text": [
      "torch.Size([200, 2500])\n"
     ]
    }
   ],
   "source": [
    "X_hat = dec(Z)\n",
    "print(X_hat.shape)"
   ]
  }
 ],
 "metadata": {
  "colab": {
   "provenance": []
  },
  "kernelspec": {
   "display_name": "Python 3",
   "name": "python3"
  },
  "language_info": {
   "name": "python"
  }
 },
 "nbformat": 4,
 "nbformat_minor": 0
}
