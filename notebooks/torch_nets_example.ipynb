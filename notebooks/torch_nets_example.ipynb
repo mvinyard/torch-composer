{
 "cells": [
  {
   "cell_type": "code",
   "execution_count": 1,
   "metadata": {
    "colab": {
     "base_uri": "https://localhost:8080/"
    },
    "id": "7sWsxCP3dOXb",
    "outputId": "7003face-95a3-4306-d560-1265ccaa49b1"
   },
   "outputs": [
    {
     "name": "stdout",
     "output_type": "stream",
     "text": [
      "Looking in indexes: https://pypi.org/simple, https://us-python.pkg.dev/colab-wheels/public/simple/\n",
      "Collecting torch-nets==0.0.4rc0\n",
      "  Downloading torch_nets-0.0.4rc0-py3-none-any.whl (27 kB)\n",
      "Requirement already satisfied: torch>=2.0.0 in /usr/local/lib/python3.9/dist-packages (from torch-nets==0.0.4rc0) (2.0.0+cu118)\n",
      "Collecting vinplots>=0.0.75\n",
      "  Downloading vinplots-0.0.75-py3-none-any.whl (16 kB)\n",
      "Collecting ABCParse>=0.0.3\n",
      "  Downloading ABCParse-0.0.3-py3-none-any.whl (15 kB)\n",
      "Requirement already satisfied: filelock in /usr/local/lib/python3.9/dist-packages (from torch>=2.0.0->torch-nets==0.0.4rc0) (3.11.0)\n",
      "Requirement already satisfied: typing-extensions in /usr/local/lib/python3.9/dist-packages (from torch>=2.0.0->torch-nets==0.0.4rc0) (4.5.0)\n",
      "Requirement already satisfied: networkx in /usr/local/lib/python3.9/dist-packages (from torch>=2.0.0->torch-nets==0.0.4rc0) (3.1)\n",
      "Requirement already satisfied: jinja2 in /usr/local/lib/python3.9/dist-packages (from torch>=2.0.0->torch-nets==0.0.4rc0) (3.1.2)\n",
      "Requirement already satisfied: triton==2.0.0 in /usr/local/lib/python3.9/dist-packages (from torch>=2.0.0->torch-nets==0.0.4rc0) (2.0.0)\n",
      "Requirement already satisfied: sympy in /usr/local/lib/python3.9/dist-packages (from torch>=2.0.0->torch-nets==0.0.4rc0) (1.11.1)\n",
      "Requirement already satisfied: lit in /usr/local/lib/python3.9/dist-packages (from triton==2.0.0->torch>=2.0.0->torch-nets==0.0.4rc0) (16.0.1)\n",
      "Requirement already satisfied: cmake in /usr/local/lib/python3.9/dist-packages (from triton==2.0.0->torch>=2.0.0->torch-nets==0.0.4rc0) (3.25.2)\n",
      "Collecting licorice-font>=0.0.3\n",
      "  Downloading licorice_font-0.0.3-py3-none-any.whl (4.6 kB)\n",
      "Requirement already satisfied: numpy>=1.19.2 in /usr/local/lib/python3.9/dist-packages (from vinplots>=0.0.75->torch-nets==0.0.4rc0) (1.22.4)\n",
      "Collecting pydk>=0.0.54\n",
      "  Downloading pydk-0.0.54-py3-none-any.whl (12 kB)\n",
      "Requirement already satisfied: matplotlib>=3.4 in /usr/local/lib/python3.9/dist-packages (from vinplots>=0.0.75->torch-nets==0.0.4rc0) (3.7.1)\n",
      "Requirement already satisfied: pandas>=1.1.2 in /usr/local/lib/python3.9/dist-packages (from vinplots>=0.0.75->torch-nets==0.0.4rc0) (1.5.3)\n",
      "Requirement already satisfied: pyparsing>=2.3.1 in /usr/local/lib/python3.9/dist-packages (from matplotlib>=3.4->vinplots>=0.0.75->torch-nets==0.0.4rc0) (3.0.9)\n",
      "Requirement already satisfied: python-dateutil>=2.7 in /usr/local/lib/python3.9/dist-packages (from matplotlib>=3.4->vinplots>=0.0.75->torch-nets==0.0.4rc0) (2.8.2)\n",
      "Requirement already satisfied: pillow>=6.2.0 in /usr/local/lib/python3.9/dist-packages (from matplotlib>=3.4->vinplots>=0.0.75->torch-nets==0.0.4rc0) (8.4.0)\n",
      "Requirement already satisfied: contourpy>=1.0.1 in /usr/local/lib/python3.9/dist-packages (from matplotlib>=3.4->vinplots>=0.0.75->torch-nets==0.0.4rc0) (1.0.7)\n",
      "Requirement already satisfied: kiwisolver>=1.0.1 in /usr/local/lib/python3.9/dist-packages (from matplotlib>=3.4->vinplots>=0.0.75->torch-nets==0.0.4rc0) (1.4.4)\n",
      "Requirement already satisfied: cycler>=0.10 in /usr/local/lib/python3.9/dist-packages (from matplotlib>=3.4->vinplots>=0.0.75->torch-nets==0.0.4rc0) (0.11.0)\n",
      "Requirement already satisfied: packaging>=20.0 in /usr/local/lib/python3.9/dist-packages (from matplotlib>=3.4->vinplots>=0.0.75->torch-nets==0.0.4rc0) (23.0)\n",
      "Requirement already satisfied: importlib-resources>=3.2.0 in /usr/local/lib/python3.9/dist-packages (from matplotlib>=3.4->vinplots>=0.0.75->torch-nets==0.0.4rc0) (5.12.0)\n",
      "Requirement already satisfied: fonttools>=4.22.0 in /usr/local/lib/python3.9/dist-packages (from matplotlib>=3.4->vinplots>=0.0.75->torch-nets==0.0.4rc0) (4.39.3)\n",
      "Requirement already satisfied: pytz>=2020.1 in /usr/local/lib/python3.9/dist-packages (from pandas>=1.1.2->vinplots>=0.0.75->torch-nets==0.0.4rc0) (2022.7.1)\n",
      "Requirement already satisfied: MarkupSafe>=2.0 in /usr/local/lib/python3.9/dist-packages (from jinja2->torch>=2.0.0->torch-nets==0.0.4rc0) (2.1.2)\n",
      "Requirement already satisfied: mpmath>=0.19 in /usr/local/lib/python3.9/dist-packages (from sympy->torch>=2.0.0->torch-nets==0.0.4rc0) (1.3.0)\n",
      "Requirement already satisfied: zipp>=3.1.0 in /usr/local/lib/python3.9/dist-packages (from importlib-resources>=3.2.0->matplotlib>=3.4->vinplots>=0.0.75->torch-nets==0.0.4rc0) (3.15.0)\n",
      "Requirement already satisfied: six>=1.5 in /usr/local/lib/python3.9/dist-packages (from python-dateutil>=2.7->matplotlib>=3.4->vinplots>=0.0.75->torch-nets==0.0.4rc0) (1.16.0)\n",
      "Installing collected packages: licorice-font, ABCParse, pydk, vinplots, torch-nets\n",
      "Successfully installed ABCParse-0.0.3 licorice-font-0.0.3 pydk-0.0.54 torch-nets-0.0.4rc0 vinplots-0.0.75\n"
     ]
    }
   ],
   "source": [
    "pip install -q torch-nets==0.0.4rc0"
   ]
  },
  {
   "cell_type": "code",
   "execution_count": 3,
   "metadata": {
    "colab": {
     "base_uri": "https://localhost:8080/"
    },
    "id": "3Wgou0YCbUvN",
    "outputId": "fba34c46-ee37-414b-8b42-5264a7e5b5a4"
   },
   "outputs": [
    {
     "name": "stdout",
     "output_type": "stream",
     "text": [
      "0.0.4rc0\n"
     ]
    }
   ],
   "source": [
    "import torch_nets\n",
    "import torch\n",
    "\n",
    "print(torch_nets.__version__)"
   ]
  },
  {
   "cell_type": "code",
   "execution_count": 4,
   "metadata": {
    "colab": {
     "base_uri": "https://localhost:8080/"
    },
    "id": "xRBUGluObdJF",
    "outputId": "37df8ae7-5b18-4ae1-b60d-954053f92caf"
   },
   "outputs": [
    {
     "data": {
      "text/plain": [
       "TorchNet(\n",
       "  (hidden_1): Sequential(\n",
       "    (linear): Linear(in_features=50, out_features=400, bias=True)\n",
       "    (dropout): Dropout(p=0.2, inplace=False)\n",
       "    (activation): LeakyReLU(negative_slope=0.01)\n",
       "  )\n",
       "  (hidden_2): Sequential(\n",
       "    (linear): Linear(in_features=400, out_features=400, bias=True)\n",
       "    (dropout): Dropout(p=0.2, inplace=False)\n",
       "    (activation): LeakyReLU(negative_slope=0.01)\n",
       "  )\n",
       "  (output): Sequential(\n",
       "    (linear): Linear(in_features=400, out_features=50, bias=True)\n",
       "  )\n",
       ")"
      ]
     },
     "execution_count": 4,
     "metadata": {},
     "output_type": "execute_result"
    }
   ],
   "source": [
    "net = torch_nets.TorchNet(in_features=50, out_features=50, hidden=[400, 400])\n",
    "net"
   ]
  },
  {
   "cell_type": "code",
   "execution_count": 5,
   "metadata": {
    "id": "uy-24NEIgrLS"
   },
   "outputs": [],
   "source": [
    "X = torch.randn([200, 50])"
   ]
  },
  {
   "cell_type": "code",
   "execution_count": 6,
   "metadata": {
    "colab": {
     "base_uri": "https://localhost:8080/"
    },
    "id": "gdsVOOAagfD5",
    "outputId": "bccd66dc-b7bf-4781-e093-81cfdfcbffe5"
   },
   "outputs": [
    {
     "name": "stdout",
     "output_type": "stream",
     "text": [
      "torch.Size([200, 50])\n"
     ]
    }
   ],
   "source": [
    "X_hat = net(X)\n",
    "print(X_hat.shape)"
   ]
  },
  {
   "cell_type": "markdown",
   "metadata": {
    "id": "a-yAhN6Eg49D"
   },
   "source": [
    "### `AugmentedTorchNet`\n",
    "\n",
    "Instantiate the network, use the same data from before"
   ]
  },
  {
   "cell_type": "code",
   "execution_count": 7,
   "metadata": {
    "colab": {
     "base_uri": "https://localhost:8080/"
    },
    "id": "1lS7NpG4cyrn",
    "outputId": "3bf09a96-5ca9-44c3-cf02-cf8bf4cc12ac"
   },
   "outputs": [
    {
     "data": {
      "text/plain": [
       "AugmentedTorchNet(\n",
       "  (net): TorchNet(\n",
       "    (hidden_1): Sequential(\n",
       "      (linear): Linear(in_features=55, out_features=400, bias=True)\n",
       "      (dropout): Dropout(p=0.2, inplace=False)\n",
       "      (activation): LeakyReLU(negative_slope=0.01)\n",
       "    )\n",
       "    (hidden_2): Sequential(\n",
       "      (linear): Linear(in_features=400, out_features=400, bias=True)\n",
       "      (dropout): Dropout(p=0.2, inplace=False)\n",
       "      (activation): LeakyReLU(negative_slope=0.01)\n",
       "    )\n",
       "    (output): Sequential(\n",
       "      (linear): Linear(in_features=400, out_features=55, bias=True)\n",
       "    )\n",
       "    (augmented_output): Linear(in_features=55, out_features=50, bias=True)\n",
       "  )\n",
       ")"
      ]
     },
     "execution_count": 7,
     "metadata": {},
     "output_type": "execute_result"
    }
   ],
   "source": [
    "aug_net = torch_nets.AugmentedTorchNet(in_features=50, out_features=50, hidden=[400, 400], n_augment=5)\n",
    "aug_net"
   ]
  },
  {
   "cell_type": "code",
   "execution_count": 8,
   "metadata": {
    "id": "A42yuK1tf2V9"
   },
   "outputs": [],
   "source": [
    "X = torch.randn([200, 50])"
   ]
  },
  {
   "cell_type": "code",
   "execution_count": 9,
   "metadata": {
    "colab": {
     "base_uri": "https://localhost:8080/"
    },
    "id": "8NF6jVk_fj12",
    "outputId": "e235a02b-717c-465e-b532-0fcd0668fabe"
   },
   "outputs": [
    {
     "data": {
      "text/plain": [
       "torch.Size([200, 50])"
      ]
     },
     "execution_count": 9,
     "metadata": {},
     "output_type": "execute_result"
    }
   ],
   "source": [
    "aug_net(X).shape"
   ]
  },
  {
   "cell_type": "markdown",
   "metadata": {
    "id": "RHjHL7F2g_HW"
   },
   "source": [
    "### `Encoder` and `Decoder`\n",
    "\n",
    "Generate a test data matrix (200 samples by 2500 dimensions)"
   ]
  },
  {
   "cell_type": "code",
   "execution_count": 10,
   "metadata": {
    "id": "x2FWF4LEgAic"
   },
   "outputs": [],
   "source": [
    "X = torch.randn([200, 2500])"
   ]
  },
  {
   "cell_type": "markdown",
   "metadata": {
    "id": "xQVwMTo3hQ6k"
   },
   "source": [
    "Instantiate the `Encoder`"
   ]
  },
  {
   "cell_type": "code",
   "execution_count": 11,
   "metadata": {
    "id": "ApS7RRsLfz2c"
   },
   "outputs": [],
   "source": [
    "enc = torch_nets.Encoder(data_dim=X.shape[1], latent_dim=20)"
   ]
  },
  {
   "cell_type": "code",
   "execution_count": 12,
   "metadata": {
    "colab": {
     "base_uri": "https://localhost:8080/"
    },
    "id": "k4dM5_pUgDs_",
    "outputId": "741045f0-21fa-4dba-fda6-ff6c42873de8"
   },
   "outputs": [
    {
     "name": "stdout",
     "output_type": "stream",
     "text": [
      "torch.Size([200, 20])\n"
     ]
    }
   ],
   "source": [
    "Z = enc(X)\n",
    "print(Z.shape)"
   ]
  },
  {
   "cell_type": "markdown",
   "metadata": {
    "id": "nFQF6jNVhXaR"
   },
   "source": [
    "Instantiate the `Decoder`"
   ]
  },
  {
   "cell_type": "code",
   "execution_count": 13,
   "metadata": {
    "id": "efbXwZ1lgGWm"
   },
   "outputs": [],
   "source": [
    "dec = torch_nets.Decoder(data_dim=X.shape[1], latent_dim=Z.shape[1])"
   ]
  },
  {
   "cell_type": "code",
   "execution_count": 14,
   "metadata": {
    "colab": {
     "base_uri": "https://localhost:8080/"
    },
    "id": "blikW_acgQlG",
    "outputId": "93aae5b5-10aa-4989-dcd3-9049d94a97b1"
   },
   "outputs": [
    {
     "name": "stdout",
     "output_type": "stream",
     "text": [
      "torch.Size([200, 2500])\n"
     ]
    }
   ],
   "source": [
    "X_hat = dec(Z)\n",
    "print(X_hat.shape)"
   ]
  },
  {
   "cell_type": "code",
   "execution_count": 14,
   "metadata": {
    "id": "GSe8PNaqBvTr"
   },
   "outputs": [],
   "source": []
  }
 ],
 "metadata": {
  "colab": {
   "provenance": []
  },
  "kernelspec": {
   "display_name": "Python 3",
   "name": "python3"
  },
  "language_info": {
   "name": "python"
  }
 },
 "nbformat": 4,
 "nbformat_minor": 0
}
